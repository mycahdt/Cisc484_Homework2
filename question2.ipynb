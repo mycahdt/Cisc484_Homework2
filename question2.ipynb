{
  "nbformat": 4,
  "nbformat_minor": 0,
  "metadata": {
    "colab": {
      "provenance": []
    },
    "kernelspec": {
      "name": "python3",
      "display_name": "Python 3"
    },
    "language_info": {
      "name": "python"
    }
  },
  "cells": [
    {
      "cell_type": "code",
      "execution_count": 1,
      "metadata": {
        "id": "Kj98JWtMejU7"
      },
      "outputs": [],
      "source": [
        "import numpy as np\n",
        "data = [[2,1,3], [5,2,7], [2,-2,4],[-3,1,-2], [-5, 3, -1]]\n",
        "yVals = [6, 11, 0, 0, 1]\n",
        "w0 = 0.1\n",
        "w1 = 0.2\n",
        "w2 = 0.1\n",
        "w3 = 0.1\n",
        "n = 0.01\n",
        "epochs = 10"
      ]
    },
    {
      "cell_type": "code",
      "source": [
        "def gradientDescAlg(epochs, data, yVals, w0, w1, w2, w3, n):\n",
        "  trainingError = []\n",
        "  for a in range(epochs):\n",
        "    changeW0 = 0\n",
        "    changeW1 = 0\n",
        "    changeW2 = 0\n",
        "    changeW3 = 0\n",
        "    error = 0\n",
        "    for d in range(len(data)):\n",
        "      output = w0 + w1*data[d][0] + w2*data[d][1] + w3*data[d][2]\n",
        "      changeW0 = changeW0 + n*(yVals[d] - output)\n",
        "      changeW1 = changeW1 + n*(yVals[d] - output)*data[d][0]\n",
        "      changeW2 = changeW2 + n*(yVals[d] - output)*data[d][1]\n",
        "      changeW3 = changeW3 + n*(yVals[d] - output)*data[d][2]\n",
        "      error += pow((abs(yVals[d] - output)), 2)\n",
        "    w0 = w0 + changeW0\n",
        "    w1 = w1 + changeW1\n",
        "    w2 = w2 + changeW2\n",
        "    w3 = w3 + changeW3\n",
        "    trainingError.append(error)\n",
        "    if a!=0 and (abs(error-pastError) == 0):\n",
        "      break\n",
        "    print(\"Epoch \", a, \" error: \", error)\n",
        "    pastError = error\n",
        "\n",
        "  return [w0, w1, w2, w3], trainingError"
      ],
      "metadata": {
        "id": "4Fq4G7Yfh573"
      },
      "execution_count": 2,
      "outputs": []
    },
    {
      "cell_type": "code",
      "source": [
        "z, e = gradientDescAlg(epochs, data, yVals, w0, w1, w2, w3, n)\n",
        "w0 = z[0]\n",
        "w1 = z[1]\n",
        "w2 = z[2]\n",
        "w3 = z[3]\n",
        "print(\"Weights: \", z)\n",
        "print(\"Error: \", e)"
      ],
      "metadata": {
        "colab": {
          "base_uri": "https://localhost:8080/"
        },
        "id": "q4uIjf27h-HL",
        "outputId": "d36daca4-1d86-46ad-97b5-2d52d9e98078"
      },
      "execution_count": 6,
      "outputs": [
        {
          "output_type": "stream",
          "name": "stdout",
          "text": [
            "Epoch  0  error:  2.1956950186379904\n",
            "Epoch  1  error:  2.1442261231516526\n",
            "Epoch  2  error:  2.095933341337982\n",
            "Epoch  3  error:  2.0504787290502358\n",
            "Epoch  4  error:  2.0075642614831777\n",
            "Epoch  5  error:  1.9669270527545648\n",
            "Epoch  6  error:  1.9283351493404253\n",
            "Epoch  7  error:  1.8915838282374862\n",
            "Epoch  8  error:  1.856492339165688\n",
            "Epoch  9  error:  1.8229010374773384\n",
            "Weights:  [0.5583615310687507, 0.7853988082974608, 1.7847593935648198, 0.4334387291432278]\n",
            "Error:  [2.1956950186379904, 2.1442261231516526, 2.095933341337982, 2.0504787290502358, 2.0075642614831777, 1.9669270527545648, 1.9283351493404253, 1.8915838282374862, 1.856492339165688, 1.8229010374773384]\n"
          ]
        }
      ]
    }
  ]
}