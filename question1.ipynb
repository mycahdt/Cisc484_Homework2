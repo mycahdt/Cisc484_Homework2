{
  "nbformat": 4,
  "nbformat_minor": 0,
  "metadata": {
    "colab": {
      "provenance": []
    },
    "kernelspec": {
      "name": "python3",
      "display_name": "Python 3"
    },
    "language_info": {
      "name": "python"
    }
  },
  "cells": [
    {
      "cell_type": "code",
      "execution_count": 1,
      "metadata": {
        "id": "AF2pDUywdJqh"
      },
      "outputs": [],
      "source": [
        "import numpy as np\n",
        "data = [-1, -2, -3, -4, 1, 2, 3, 4]\n",
        "yVals = [0, 0, 0, 0, 1, 1, 1, 1]\n",
        "w0 = 0.1\n",
        "w1 = 0.1\n",
        "n = 0.01\n",
        "epochs = 20"
      ]
    },
    {
      "cell_type": "code",
      "source": [
        "def gradientDescAlg(epochs, data, yVals, w0, w1, n):\n",
        "  for a in range(epochs):\n",
        "    changeW0 = 0\n",
        "    changeW1 = 0\n",
        "    error = 0\n",
        "    for d in range(len(data)):\n",
        "      output = w0 + w1*data[d]\n",
        "      changeW0 = changeW0 + n*(yVals[d] - output)\n",
        "      changeW1 = changeW1 + n*(yVals[d] - output)*data[d]\n",
        "      error += pow((abs(yVals[d] - output)), 2)\n",
        "    w0 = w0 + changeW0\n",
        "    w1 = w1 + changeW1\n",
        "    '''\n",
        "    if a!=0 and (abs(error-pastError) < 1):\n",
        "      break\n",
        "    pastError = error\n",
        "    '''\n",
        "  return [w0, w1]"
      ],
      "metadata": {
        "id": "kmUicD_N4hxH"
      },
      "execution_count": 2,
      "outputs": []
    },
    {
      "cell_type": "code",
      "source": [
        "z = gradientDescAlg(epochs, data, yVals, w0, w1, n)\n",
        "w0 = z[0]\n",
        "w1 = z[1]\n",
        "print(z)"
      ],
      "metadata": {
        "colab": {
          "base_uri": "https://localhost:8080/"
        },
        "id": "vuLkLxsC7psC",
        "outputId": "c9394248-bb2e-4154-d78c-e2c75f913769"
      },
      "execution_count": 3,
      "outputs": [
        {
          "output_type": "stream",
          "name": "stdout",
          "text": [
            "[0.4245226683348814, 0.16666666593365892]\n"
          ]
        }
      ]
    },
    {
      "cell_type": "code",
      "source": [
        "import matplotlib.pyplot as plt\n",
        "\n",
        "x = np.linspace(-5,5)\n",
        "y = w1*x + w0\n",
        "plt.plot(data, yVals, 'o')\n",
        "plt.plot(x, y)\n",
        "plt.axvline(x = 0, color = 'b')"
      ],
      "metadata": {
        "colab": {
          "base_uri": "https://localhost:8080/",
          "height": 447
        },
        "id": "KZEQdOC0AXa4",
        "outputId": "a355eb63-5219-49c7-8f4e-99921044e16c"
      },
      "execution_count": 4,
      "outputs": [
        {
          "output_type": "execute_result",
          "data": {
            "text/plain": [
              "<matplotlib.lines.Line2D at 0x7816947da9e0>"
            ]
          },
          "metadata": {},
          "execution_count": 4
        },
        {
          "output_type": "display_data",
          "data": {
            "text/plain": [
              "<Figure size 640x480 with 1 Axes>"
            ],
            "image/png": "[encoded data removed]"
          },
          "metadata": {}
        }
      ]
    }
  ]
}